{
 "cells": [
  {
   "cell_type": "markdown",
   "metadata": {},
   "source": [
    "# Lab 3 - EXPRESSÕES REGULARES"
   ]
  },
  {
   "cell_type": "code",
   "execution_count": 10,
   "metadata": {},
   "outputs": [],
   "source": [
    "musica = '''\n",
    "Todos os dias quando acordo\n",
    "Não tenho mais\n",
    "O tempo que passou\n",
    "Mas tenho muito tempo\n",
    "Temos todo o tempo do mundo\n",
    "Todos os dias\n",
    "Antes de dormir\n",
    "Lembro e esqueço\n",
    "Como foi o dia\n",
    "Sempre em frente\n",
    "Não temos tempo a perder\n",
    "Nosso suor sagrado\n",
    "É bem mais belo\n",
    "Que esse sangue amargo\n",
    "E tão sério\n",
    "E selvagem! Selvagem!\n",
    "Selvagem!\n",
    "Veja o sol\n",
    "Dessa manhã tão cinza\n",
    "A tempestade que chega\n",
    "É da cor dos teus olhos\n",
    "Castanhos\n",
    "Então me abraça forte\n",
    "E diz mais uma vez\n",
    "Que já estamos\n",
    "Distantes de tudo\n",
    "Temos nosso próprio tempo\n",
    "Temos nosso próprio tempo\n",
    "Temos nosso próprio tempo\n",
    "Não tenho medo do escuro\n",
    "Mas deixe as luzes\n",
    "Acesas agora\n",
    "O que foi escondido\n",
    "É o que se escondeu\n",
    "E o que foi prometido\n",
    "Ninguém prometeu\n",
    "Nem foi tempo perdido\n",
    "Somos tão jovens\n",
    "Tão jovens! Tão jovens!\n",
    "'''"
   ]
  },
  {
   "cell_type": "code",
   "execution_count": 7,
   "metadata": {},
   "outputs": [],
   "source": [
    "import re"
   ]
  },
  {
   "cell_type": "code",
   "execution_count": 16,
   "metadata": {},
   "outputs": [
    {
     "name": "stdout",
     "output_type": "stream",
     "text": [
      "A quantidade de vezes que aparece a letra \"A\" é: 39\n"
     ]
    }
   ],
   "source": [
    "# 1- Crie um REGEX para contar quantas vezes o caracter \"a\" aparece em todo o texto da música.\n",
    "\n",
    "listaA = re.findall('a', musica)\n",
    "contagemA = len(listaA)\n",
    "print(f'A quantidade de vezes que aparece a letra \"A\" é: {contagemA}')\n",
    "\n"
   ]
  },
  {
   "cell_type": "code",
   "execution_count": 15,
   "metadata": {},
   "outputs": [
    {
     "name": "stdout",
     "output_type": "stream",
     "text": [
      "A quantidade de vezes que aparece a palavra \"tempo\" é: 8\n"
     ]
    }
   ],
   "source": [
    "# 2- Crie um REGEX em Python para contar quantas vezes a palavra tempo aparece na música.\n",
    "listaTempo = re.findall('tempo', musica)\n",
    "contagemTempo = len(listaTempo)\n",
    "print(f'A quantidade de vezes que aparece a palavra \"tempo\" é: {contagemTempo}')"
   ]
  },
  {
   "cell_type": "code",
   "execution_count": 23,
   "metadata": {},
   "outputs": [
    {
     "name": "stdout",
     "output_type": "stream",
     "text": [
      "As palavras que estão juntas de um \"!\" são: ['selvagem!', 'Selvagem!', 'Selvagem!', 'jovens!', 'jovens!']\n"
     ]
    }
   ],
   "source": [
    "# 3- Crie um REGEX em Python para extrair as palavras seguidas por exclamação.\n",
    "palavras = re.findall(r'\\b\\w+!', musica)\n",
    "print(f'As palavras que estão juntas de um \"!\" são: {palavras}')\n"
   ]
  },
  {
   "cell_type": "code",
   "execution_count": 24,
   "metadata": {},
   "outputs": [
    {
     "name": "stdout",
     "output_type": "stream",
     "text": [
      "As palavras que tem como antecessor \"esse\" e sucessor \"amargo\" é: ['sangue']\n"
     ]
    }
   ],
   "source": [
    "# 4- Crie um REGEX que extrai qualquer palavra cujo antecessor seja a palavra \"esse\" e o sucessor seja a palavra \"amargo\" em um texto.\n",
    "palavraEsse = re.findall(r'\\besse\\s(\\w+)\\samargo\\b', musica)\n",
    "print(f'As palavras que tem como antecessor \"esse\" e sucessor \"amargo\" é: {palavraEsse}')"
   ]
  },
  {
   "cell_type": "code",
   "execution_count": 27,
   "metadata": {},
   "outputs": [
    {
     "name": "stdout",
     "output_type": "stream",
     "text": [
      "As palavras listadas são: ['N', 'esque', 'N', 't', 's', 'manh', 't', 'Ent', 'abra', 'j', 'pr', 'pr', 'pr', 'N', 'Ningu', 't', 'T', 'T']\n"
     ]
    }
   ],
   "source": [
    "# 5- Crie um REGEX que retorne as palavras com acento, mas somente os caracteres na palavra que são anteriores ao caracter com acento.\n",
    "palavraAcento = re.findall(r\"(\\w+)[\\u00C0-\\u017F]+\", musica)\n",
    "print(f\"As palavras listadas são: {palavraAcento}\")"
   ]
  }
 ],
 "metadata": {
  "kernelspec": {
   "display_name": "Python 3",
   "language": "python",
   "name": "python3"
  },
  "language_info": {
   "codemirror_mode": {
    "name": "ipython",
    "version": 3
   },
   "file_extension": ".py",
   "mimetype": "text/x-python",
   "name": "python",
   "nbconvert_exporter": "python",
   "pygments_lexer": "ipython3",
   "version": "3.12.1"
  }
 },
 "nbformat": 4,
 "nbformat_minor": 2
}
